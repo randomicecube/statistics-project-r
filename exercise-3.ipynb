{
 "cells": [
  {
   "cell_type": "code",
   "execution_count": 1,
   "metadata": {
    "vscode": {
     "languageId": "r"
    }
   },
   "outputs": [
    {
     "ename": "ERROR",
     "evalue": "Error in library(xlsx2): there is no package called ‘xlsx2’\n",
     "output_type": "error",
     "traceback": [
      "Error in library(xlsx2): there is no package called ‘xlsx2’\nTraceback:\n",
      "1. library(xlsx2)"
     ]
    }
   ],
   "source": [
    "library(xlsx)\n",
    "library(ggplot2)\n",
    "library(dplyr) # for renaming columns"
   ]
  },
  {
   "cell_type": "code",
   "execution_count": null,
   "metadata": {
    "vscode": {
     "languageId": "r"
    }
   },
   "outputs": [],
   "source": [
    "df = read.xlsx2(\"QualidadeARO3.xlsx\", sheetName = \"Sheet1\")"
   ]
  },
  {
   "cell_type": "code",
   "execution_count": null,
   "metadata": {
    "vscode": {
     "languageId": "r"
    }
   },
   "outputs": [],
   "source": []
  }
 ],
 "metadata": {
  "kernelspec": {
   "display_name": "R",
   "language": "R",
   "name": "ir"
  },
  "language_info": {
   "codemirror_mode": "r",
   "file_extension": ".r",
   "mimetype": "text/x-r-source",
   "name": "R",
   "pygments_lexer": "r",
   "version": "4.2.0"
  },
  "orig_nbformat": 4
 },
 "nbformat": 4,
 "nbformat_minor": 2
}
