{
 "cells": [
  {
   "cell_type": "code",
   "execution_count": 4,
   "metadata": {
    "vscode": {
     "languageId": "r"
    }
   },
   "outputs": [
    {
     "data": {
      "text/html": [
       "0.231623779882862"
      ],
      "text/latex": [
       "0.231623779882862"
      ],
      "text/markdown": [
       "0.231623779882862"
      ],
      "text/plain": [
       "[1] 0.2316238"
      ]
     },
     "metadata": {},
     "output_type": "display_data"
    }
   ],
   "source": [
    "library(\"Rmisc\")\n",
    "SEED <- 418\n",
    "M <- 500\n",
    "N <- 768\n",
    "LAMBDA <- 1.56\n",
    "ALPHA <- 0.04\n",
    "set.seed(SEED)\n",
    "amplitude <- c()\n",
    "for (i in 1:M) {\n",
    "  samples <- rexp(N, rate = LAMBDA)\n",
    "  a <- qnorm(1 - ALPHA / 2)\n",
    "  lim_sup <- (((1 + qnorm(1-ALPHA/2)/sqrt(N))/mean(samples)))\n",
    "  lim_inf <- (((1 - qnorm(1-ALPHA/2)/sqrt(N))/mean(samples)))\n",
    "  amplitude <- append(amplitude, abs(lim_sup - lim_inf))\n",
    "}\n",
    "mean(amplitude)"
   ]
  }
 ],
 "metadata": {
  "kernelspec": {
   "display_name": "R",
   "language": "R",
   "name": "ir"
  },
  "language_info": {
   "codemirror_mode": "r",
   "file_extension": ".r",
   "mimetype": "text/x-r-source",
   "name": "R",
   "pygments_lexer": "r",
   "version": "4.2.0"
  },
  "orig_nbformat": 4
 },
 "nbformat": 4,
 "nbformat_minor": 2
}
