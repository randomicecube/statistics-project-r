{
 "cells": [
  {
   "cell_type": "code",
   "execution_count": 1,
   "metadata": {
    "vscode": {
     "languageId": "r"
    }
   },
   "outputs": [
    {
     "name": "stderr",
     "output_type": "stream",
     "text": [
      "Loading required package: lattice\n",
      "\n",
      "Loading required package: plyr\n",
      "\n"
     ]
    },
    {
     "data": {
      "text/html": [
       "0.00565636944060441"
      ],
      "text/latex": [
       "0.00565636944060441"
      ],
      "text/markdown": [
       "0.00565636944060441"
      ],
      "text/plain": [
       "[1] 0.005656369"
      ]
     },
     "metadata": {},
     "output_type": "display_data"
    }
   ],
   "source": [
    "library(\"Rmisc\")\n",
    "SEED <- 349\n",
    "M <- 1400\n",
    "N <- 767\n",
    "LAMBDA <- 1.56\n",
    "ALPHA <- 0.02\n",
    "set.seed(SEED)\n",
    "amplitude <- c()\n",
    "for (i in 1:M) {\n",
    "  samples <- rexp(N, rate = LAMBDA)\n",
    "  a <- qnorm(1 - ALPHA / 2)\n",
    "  lim_sup <- (((1 + qnorm(1-ALPHA/2)/sqrt(N))/mean(samples)))\n",
    "  lim_inf <- (((1 - qnorm(1-ALPHA/2)/sqrt(N))/mean(samples)))\n",
    "  amplitude <- append(amplitude, abs(lim_sup - lim_inf))\n",
    "}\n",
    "mean(amplitude)"
   ]
  }
 ],
 "metadata": {
  "kernelspec": {
   "display_name": "R",
   "language": "R",
   "name": "ir"
  },
  "language_info": {
   "codemirror_mode": "r",
   "file_extension": ".r",
   "mimetype": "text/x-r-source",
   "name": "R",
   "pygments_lexer": "r",
   "version": "4.2.0"
  },
  "orig_nbformat": 4
 },
 "nbformat": 4,
 "nbformat_minor": 2
}
