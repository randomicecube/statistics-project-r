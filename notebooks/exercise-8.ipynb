{
 "cells": [
  {
   "cell_type": "code",
   "execution_count": 1,
   "metadata": {
    "vscode": {
     "languageId": "r"
    }
   },
   "outputs": [
    {
     "name": "stderr",
     "output_type": "stream",
     "text": [
      "Loading required package: lattice\n",
      "\n",
      "Loading required package: plyr\n",
      "\n"
     ]
    },
    {
     "data": {
      "text/html": [
       "0.0950088147253439"
      ],
      "text/latex": [
       "0.0950088147253439"
      ],
      "text/markdown": [
       "0.0950088147253439"
      ],
      "text/plain": [
       "[1] 0.09500881"
      ]
     },
     "metadata": {},
     "output_type": "display_data"
    }
   ],
   "source": [
    "library(\"Rmisc\")\n",
    "SEED <- 418\n",
    "M <- 599\n",
    "N <- 768\n",
    "LAMBDA <- 1.56\n",
    "CONF_LEVEL <- 0.96\n",
    "set.seed(SEED)\n",
    "amplitude <- c()\n",
    "for (i in 1:M) {\n",
    "  samples <- rexp(N, rate = LAMBDA)\n",
    "  conf_interval <- CI(samples, ci = CONF_LEVEL)\n",
    "  amplitude <- append(amplitude,\n",
    "    c(abs(conf_interval[[\"upper\"]] - conf_interval[[\"lower\"]])))\n",
    "}\n",
    "mean(amplitude)"
   ]
  }
 ],
 "metadata": {
  "kernelspec": {
   "display_name": "R",
   "language": "R",
   "name": "ir"
  },
  "language_info": {
   "codemirror_mode": "r",
   "file_extension": ".r",
   "mimetype": "text/x-r-source",
   "name": "R",
   "pygments_lexer": "r",
   "version": "4.2.0"
  },
  "orig_nbformat": 4
 },
 "nbformat": 4,
 "nbformat_minor": 2
}
