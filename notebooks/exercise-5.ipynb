{
 "cells": [
  {
   "cell_type": "code",
   "execution_count": 6,
   "metadata": {
    "vscode": {
     "languageId": "r"
    }
   },
   "outputs": [
    {
     "data": {
      "text/html": [
       "0.0287909361511851"
      ],
      "text/latex": [
       "0.0287909361511851"
      ],
      "text/markdown": [
       "0.0287909361511851"
      ],
      "text/plain": [
       "[1] 0.02879094"
      ]
     },
     "metadata": {},
     "output_type": "display_data"
    }
   ],
   "source": [
    "set.seed(907)\n",
    "values <- rexp(45, rate = 0.28)\n",
    "T <- 1 - pexp(2, rate = 0.28)\n",
    "E <- 1 - ecdf(values)(2)\n",
    "abs(T - E)"
   ]
  }
 ],
 "metadata": {
  "kernelspec": {
   "display_name": "R",
   "language": "R",
   "name": "ir"
  },
  "language_info": {
   "codemirror_mode": "r",
   "file_extension": ".r",
   "mimetype": "text/x-r-source",
   "name": "R",
   "pygments_lexer": "r",
   "version": "4.2.0"
  },
  "orig_nbformat": 4
 },
 "nbformat": 4,
 "nbformat_minor": 2
}
