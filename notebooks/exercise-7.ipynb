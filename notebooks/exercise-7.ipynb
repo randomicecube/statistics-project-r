{
 "cells": [
  {
   "cell_type": "code",
   "execution_count": 1,
   "metadata": {
    "vscode": {
     "languageId": "r"
    }
   },
   "outputs": [
    {
     "data": {
      "text/html": [
       "0.000197426796805678"
      ],
      "text/latex": [
       "0.000197426796805678"
      ],
      "text/markdown": [
       "0.000197426796805678"
      ],
      "text/plain": [
       "[1] 0.0001974268"
      ]
     },
     "metadata": {},
     "output_type": "display_data"
    }
   ],
   "source": [
    "set.seed(983)\n",
    "all_avgs <- c()\n",
    "for (i in 1:3220) {\n",
    "  sample <- rbinom(140, 2, 0.97)\n",
    "  avg <- mean(sample)\n",
    "  all_avgs <- c(all_avgs, avg)\n",
    "}\n",
    "all_avgs_avg <- mean(all_avgs)\n",
    "vesp = 2 * 0.97\n",
    "abs(all_avgs_avg - vesp)"
   ]
  },
  {
   "cell_type": "code",
   "execution_count": null,
   "metadata": {
    "vscode": {
     "languageId": "r"
    }
   },
   "outputs": [],
   "source": []
  }
 ],
 "metadata": {
  "kernelspec": {
   "display_name": "R",
   "language": "R",
   "name": "ir"
  },
  "language_info": {
   "codemirror_mode": "r",
   "file_extension": ".r",
   "mimetype": "text/x-r-source",
   "name": "R",
   "pygments_lexer": "r",
   "version": "4.2.0"
  },
  "orig_nbformat": 4
 },
 "nbformat": 4,
 "nbformat_minor": 2
}
