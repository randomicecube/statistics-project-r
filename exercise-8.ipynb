{
 "cells": [
  {
   "cell_type": "code",
   "execution_count": 2,
   "metadata": {
    "vscode": {
     "languageId": "r"
    }
   },
   "outputs": [
    {
     "data": {
      "text/html": [
       "0.0950591158654332"
      ],
      "text/latex": [
       "0.0950591158654332"
      ],
      "text/markdown": [
       "0.0950591158654332"
      ],
      "text/plain": [
       "[1] 0.09505912"
      ]
     },
     "metadata": {},
     "output_type": "display_data"
    }
   ],
   "source": [
    "set.seed(418)\n",
    "all_values <- c()\n",
    "confidence_interval <- function(vector, interval) {\n",
    "  vec_sd <- sd(vector)\n",
    "  n <- length(vector)\n",
    "  vec_mean <- mean(vector)\n",
    "  error <- qt((interval + 1)/2, df = n - 1) * vec_sd / sqrt(n)\n",
    "  result <- c(vec_mean - error, vec_mean + error)\n",
    "  return(result)\n",
    "}\n",
    "for (i in 1:500) {\n",
    "    interval <- confidence_interval(rexp(768, 1.56), 0.96)\n",
    "    all_values <- c(all_values, abs(interval[11] - interval[2]))\n",
    "}\n",
    "mean(all_values)"
   ]
  },
  {
   "cell_type": "code",
   "execution_count": null,
   "metadata": {
    "vscode": {
     "languageId": "r"
    }
   },
   "outputs": [],
   "source": []
  }
 ],
 "metadata": {
  "kernelspec": {
   "display_name": "R",
   "language": "R",
   "name": "ir"
  },
  "language_info": {
   "codemirror_mode": "r",
   "file_extension": ".r",
   "mimetype": "text/x-r-source",
   "name": "R",
   "pygments_lexer": "r",
   "version": "4.2.0"
  },
  "orig_nbformat": 4
 },
 "nbformat": 4,
 "nbformat_minor": 2
}
